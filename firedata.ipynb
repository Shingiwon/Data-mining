{
 "cells": [
  {
   "cell_type": "code",
   "execution_count": 4,
   "metadata": {},
   "outputs": [
    {
     "name": "stdout",
     "output_type": "stream",
     "text": [
      "['exdata03']\n"
     ]
    }
   ],
   "source": [
    "import os\n",
    "\n",
    "path = \"./data/\"\n",
    "file_list = os.listdir(path)\n",
    "print(file_list)"
   ]
  },
  {
   "cell_type": "code",
   "execution_count": 22,
   "metadata": {},
   "outputs": [
    {
     "name": "stdout",
     "output_type": "stream",
     "text": [
      "파일명 :  exdata03\n",
      "  locsi locgungu  damagearea  startyear  startmonth  startday  endyear  \\\n",
      "0    충북       진천        0.01       2018          11        29     2018   \n",
      "1    강원       홍천        0.08       2019           8        26     2019   \n",
      "2    경기       평택        0.01       2019           8        26     2019   \n",
      "3    충남       보령        0.02       2019           9        19     2019   \n",
      "4    경기       포천        0.16       2019           9        29     2019   \n",
      "\n",
      "   endmonth  endday  \n",
      "0        11      29  \n",
      "1         8      26  \n",
      "2         8      26  \n",
      "3         9      19  \n",
      "4         9      30  \n"
     ]
    }
   ],
   "source": [
    "import pandas as pd\n",
    "\n",
    "name = [\"locsi\",\"locgungu\",\"damagearea\",\"startyear\",\"startmonth\",\"startday\",\"endyear\",\"endmonth\",\"endday\"]\n",
    "for file in file_list:\n",
    "    print(\"파일명 : \", file)\n",
    "    file = pd.read_csv(\"./data/exdata03\", encoding=\"UTF-8\")\n",
    "    fireData=pd.DataFrame(file[name])\n",
    "    print(fireData.head())\n",
    "    "
   ]
  },
  {
   "cell_type": "code",
   "execution_count": 6,
   "metadata": {},
   "outputs": [
    {
     "data": {
      "text/plain": [
       "locsi         0\n",
       "locgungu      0\n",
       "damagearea    0\n",
       "startyear     0\n",
       "startmonth    0\n",
       "startday      0\n",
       "endyear       0\n",
       "endmonth      0\n",
       "endday        0\n",
       "dtype: int64"
      ]
     },
     "execution_count": 6,
     "metadata": {},
     "output_type": "execute_result"
    }
   ],
   "source": [
    "fireData.isnull().sum()"
   ]
  },
  {
   "cell_type": "code",
   "execution_count": 7,
   "metadata": {},
   "outputs": [
    {
     "name": "stdout",
     "output_type": "stream",
     "text": [
      "   locsi locgungu  damagearea  startyear  startmonth  startday  endyear  \\\n",
      "2     경기       평택        0.01       2019           8        26     2019   \n",
      "4     경기       포천        0.16       2019           9        29     2019   \n",
      "9     경기       평택        0.03       2019          10        12     2019   \n",
      "12    경기       안양        0.01       2019          10        19     2019   \n",
      "16    경기       가평        0.25       2019          11         7     2019   \n",
      "\n",
      "    endmonth  endday  \n",
      "2          8      26  \n",
      "4          9      30  \n",
      "9         10      12  \n",
      "12        10      19  \n",
      "16        11       7  \n"
     ]
    }
   ],
   "source": [
    "fireData=fireData[(fireData[\"locsi\"]==\"경기\")]\n",
    "print(fireData.head())"
   ]
  },
  {
   "cell_type": "code",
   "execution_count": 8,
   "metadata": {},
   "outputs": [
    {
     "name": "stdout",
     "output_type": "stream",
     "text": [
      "   locsi locgungu  damagearea  startyear  startmonth  startday  endyear  \\\n",
      "2     경기       평택        0.01       2019           8        26     2019   \n",
      "4     경기       포천        0.16       2019           9        29     2019   \n",
      "9     경기       평택        0.03       2019          10        12     2019   \n",
      "12    경기       안양        0.01       2019          10        19     2019   \n",
      "16    경기       가평        0.25       2019          11         7     2019   \n",
      "\n",
      "    endmonth  endday location  \n",
      "2          8      26     경기평택  \n",
      "4          9      30     경기포천  \n",
      "9         10      12     경기평택  \n",
      "12        10      19     경기안양  \n",
      "16        11       7     경기가평  \n"
     ]
    }
   ],
   "source": [
    "fireData['location']=fireData['locsi']+fireData['locgungu']\n",
    "print(fireData.head())"
   ]
  },
  {
   "cell_type": "code",
   "execution_count": 9,
   "metadata": {},
   "outputs": [],
   "source": [
    "fireData = fireData.drop(['locsi','locgungu'], axis=1)"
   ]
  },
  {
   "cell_type": "code",
   "execution_count": 10,
   "metadata": {},
   "outputs": [
    {
     "name": "stdout",
     "output_type": "stream",
     "text": [
      "    damagearea  startyear  startmonth  startday  endyear  endmonth  endday  \\\n",
      "2         0.01       2019           8        26     2019         8      26   \n",
      "4         0.16       2019           9        29     2019         9      30   \n",
      "9         0.03       2019          10        12     2019        10      12   \n",
      "12        0.01       2019          10        19     2019        10      19   \n",
      "16        0.25       2019          11         7     2019        11       7   \n",
      "\n",
      "   location  \n",
      "2      경기평택  \n",
      "4      경기포천  \n",
      "9      경기평택  \n",
      "12     경기안양  \n",
      "16     경기가평  \n"
     ]
    }
   ],
   "source": [
    "print(fireData.head())"
   ]
  },
  {
   "cell_type": "code",
   "execution_count": 11,
   "metadata": {},
   "outputs": [
    {
     "name": "stdout",
     "output_type": "stream",
     "text": [
      "    damagearea  startyear  startmonth  startday  endyear  endmonth  endday  \\\n",
      "2         0.01       2019           8        26     2019         8      26   \n",
      "4         0.16       2019           9        29     2019         9      30   \n",
      "9         0.03       2019          10        12     2019        10      12   \n",
      "12        0.01       2019          10        19     2019        10      19   \n",
      "16        0.25       2019          11         7     2019        11       7   \n",
      "\n",
      "   location       stdt  \n",
      "2      경기평택 2019-08-26  \n",
      "4      경기포천 2019-09-29  \n",
      "9      경기평택 2019-10-12  \n",
      "12     경기안양 2019-10-19  \n",
      "16     경기가평 2019-11-07  \n"
     ]
    }
   ],
   "source": [
    "fireData['stdt']=pd.to_datetime(fireData['startyear'].astype(str)+fireData['startmonth'].astype(str)+fireData['startday'].astype(str), format='%Y%m%d')\n",
    "print(fireData.head())"
   ]
  },
  {
   "cell_type": "code",
   "execution_count": 12,
   "metadata": {},
   "outputs": [
    {
     "name": "stdout",
     "output_type": "stream",
     "text": [
      "    damagearea  endyear  endmonth  endday location       stdt\n",
      "2         0.01     2019         8      26     경기평택 2019-08-26\n",
      "4         0.16     2019         9      30     경기포천 2019-09-29\n",
      "9         0.03     2019        10      12     경기평택 2019-10-12\n",
      "12        0.01     2019        10      19     경기안양 2019-10-19\n",
      "16        0.25     2019        11       7     경기가평 2019-11-07\n"
     ]
    }
   ],
   "source": [
    "fireData = fireData.drop(['startyear','startmonth','startday'], axis=1)\n",
    "print(fireData.head())"
   ]
  },
  {
   "cell_type": "code",
   "execution_count": 13,
   "metadata": {},
   "outputs": [
    {
     "name": "stdout",
     "output_type": "stream",
     "text": [
      "    damagearea  endyear  endmonth  endday location       stdt       eddt\n",
      "2         0.01     2019         8      26     경기평택 2019-08-26 2019-08-26\n",
      "4         0.16     2019         9      30     경기포천 2019-09-29 2019-09-30\n",
      "9         0.03     2019        10      12     경기평택 2019-10-12 2019-10-12\n",
      "12        0.01     2019        10      19     경기안양 2019-10-19 2019-10-19\n",
      "16        0.25     2019        11       7     경기가평 2019-11-07 2019-11-07\n"
     ]
    }
   ],
   "source": [
    "fireData['eddt']=pd.to_datetime(fireData['endyear'].astype(str)+fireData['endmonth'].astype(str)+fireData['endday'].astype(str), format='%Y%m%d')\n",
    "print(fireData.head())"
   ]
  },
  {
   "cell_type": "code",
   "execution_count": 14,
   "metadata": {},
   "outputs": [
    {
     "name": "stdout",
     "output_type": "stream",
     "text": [
      "    damagearea location       stdt       eddt\n",
      "2         0.01     경기평택 2019-08-26 2019-08-26\n",
      "4         0.16     경기포천 2019-09-29 2019-09-30\n",
      "9         0.03     경기평택 2019-10-12 2019-10-12\n",
      "12        0.01     경기안양 2019-10-19 2019-10-19\n",
      "16        0.25     경기가평 2019-11-07 2019-11-07\n"
     ]
    }
   ],
   "source": [
    "fireData = fireData.drop(['endyear','endmonth','endday'], axis=1)\n",
    "print(fireData.head())"
   ]
  },
  {
   "cell_type": "code",
   "execution_count": 15,
   "metadata": {},
   "outputs": [
    {
     "name": "stdout",
     "output_type": "stream",
     "text": [
      "   location       stdt       eddt  damagearea\n",
      "2      경기평택 2019-08-26 2019-08-26        0.01\n",
      "4      경기포천 2019-09-29 2019-09-30        0.16\n",
      "9      경기평택 2019-10-12 2019-10-12        0.03\n",
      "12     경기안양 2019-10-19 2019-10-19        0.01\n",
      "16     경기가평 2019-11-07 2019-11-07        0.25\n"
     ]
    }
   ],
   "source": [
    "fireData=fireData[[\"location\",\"stdt\",\"eddt\",\"damagearea\"]]\n",
    "print(fireData.head())"
   ]
  },
  {
   "cell_type": "code",
   "execution_count": 16,
   "metadata": {},
   "outputs": [],
   "source": [
    "fireData.to_csv(\"./data/fireData.csv\", encoding=\"UTF-8\")"
   ]
  },
  {
   "cell_type": "code",
   "execution_count": 17,
   "metadata": {},
   "outputs": [
    {
     "name": "stdout",
     "output_type": "stream",
     "text": [
      "   index location       stdt       eddt  damagearea\n",
      "0      2     경기평택 2019-08-26 2019-08-26        0.01\n",
      "1      4     경기포천 2019-09-29 2019-09-30        0.16\n",
      "2      9     경기평택 2019-10-12 2019-10-12        0.03\n",
      "3     12     경기안양 2019-10-19 2019-10-19        0.01\n",
      "4     16     경기가평 2019-11-07 2019-11-07        0.25\n"
     ]
    }
   ],
   "source": [
    "fireData = fireData.reset_index()\n",
    "print(fireData.head())"
   ]
  },
  {
   "cell_type": "code",
   "execution_count": 18,
   "metadata": {},
   "outputs": [
    {
     "name": "stdout",
     "output_type": "stream",
     "text": [
      "  location       stdt       eddt  damagearea\n",
      "0     경기평택 2019-08-26 2019-08-26        0.01\n",
      "1     경기포천 2019-09-29 2019-09-30        0.16\n",
      "2     경기평택 2019-10-12 2019-10-12        0.03\n",
      "3     경기안양 2019-10-19 2019-10-19        0.01\n",
      "4     경기가평 2019-11-07 2019-11-07        0.25\n"
     ]
    }
   ],
   "source": [
    "fireData = fireData.drop(['index'], axis=1)\n",
    "print(fireData.head())"
   ]
  },
  {
   "cell_type": "code",
   "execution_count": 19,
   "metadata": {},
   "outputs": [],
   "source": [
    "fireData.to_csv(\"./data/fireData.csv\", encoding=\"UTF-8\")"
   ]
  },
  {
   "cell_type": "code",
   "execution_count": null,
   "metadata": {},
   "outputs": [],
   "source": []
  }
 ],
 "metadata": {
  "kernelspec": {
   "display_name": "Python 3",
   "language": "python",
   "name": "python3"
  },
  "language_info": {
   "codemirror_mode": {
    "name": "ipython",
    "version": 3
   },
   "file_extension": ".py",
   "mimetype": "text/x-python",
   "name": "python",
   "nbconvert_exporter": "python",
   "pygments_lexer": "ipython3",
   "version": "3.8.5"
  }
 },
 "nbformat": 4,
 "nbformat_minor": 4
}
