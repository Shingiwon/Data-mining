{
 "cells": [
  {
   "cell_type": "code",
   "execution_count": 1,
   "metadata": {},
   "outputs": [],
   "source": [
    "import pandas as pd\n",
    "\n",
    "df = pd.read_csv(\"./data/mapping.csv\", encoding='utf-8')\n",
    "df = pd.DataFrame(df[['damagearea', 'avg_temp', 'min_temp', 'max_temp', 'rainfall', 'max_wind_speed', 'avg_wind']])"
   ]
  },
  {
   "cell_type": "code",
   "execution_count": 2,
   "metadata": {},
   "outputs": [],
   "source": [
    "import numpy as np\n",
    "\n",
    "df_R = np.array(df['damagearea'])\n",
    "df_R = df_R.reshape(-1,1)"
   ]
  },
  {
   "cell_type": "code",
   "execution_count": 3,
   "metadata": {},
   "outputs": [
    {
     "name": "stdout",
     "output_type": "stream",
     "text": [
      "[[0.        ]\n",
      " [0.00295916]\n",
      " [0.00039456]\n",
      " ...\n",
      " [0.03925824]\n",
      " [0.00276189]\n",
      " [0.02544881]]\n"
     ]
    }
   ],
   "source": [
    "from sklearn.preprocessing import MinMaxScaler\n",
    "scaler = MinMaxScaler()\n",
    "\n",
    "out_scaled = scaler.fit_transform(df_R)\n",
    "print(out_scaled)"
   ]
  },
  {
   "cell_type": "code",
   "execution_count": 4,
   "metadata": {},
   "outputs": [
    {
     "name": "stdout",
     "output_type": "stream",
     "text": [
      "      damagearea  avg_temp  min_temp  max_temp  rainfall  max_wind_speed  \\\n",
      "0       0.000000      25.6      20.1      31.0       0.0             4.4   \n",
      "1       0.002959      19.7      14.5      27.3       0.0             2.3   \n",
      "2       0.000395      18.3      14.1      23.3       0.0             5.3   \n",
      "3       0.000000      16.0      10.4      22.2       0.0             3.7   \n",
      "4       0.004735       8.2       2.5      16.1       0.0             3.6   \n",
      "...          ...       ...       ...       ...       ...             ...   \n",
      "1041    0.000789       8.8       3.3      16.9       0.0             5.0   \n",
      "1042    0.000197       8.8       3.3      16.9       0.0             5.0   \n",
      "1043    0.039258       8.8       3.3      16.9       0.0             5.0   \n",
      "1044    0.002762       8.8       3.3      16.9       0.0             5.0   \n",
      "1045    0.025449       8.7      -0.9      19.4       0.0             3.0   \n",
      "\n",
      "      avg_wind  \n",
      "0          1.2  \n",
      "1          0.8  \n",
      "2          2.7  \n",
      "3          1.2  \n",
      "4          1.3  \n",
      "...        ...  \n",
      "1041       1.7  \n",
      "1042       1.7  \n",
      "1043       1.7  \n",
      "1044       1.7  \n",
      "1045       1.1  \n",
      "\n",
      "[1046 rows x 7 columns]\n"
     ]
    }
   ],
   "source": [
    "df['damagearea'] = out_scaled\n",
    "print(df)"
   ]
  },
  {
   "cell_type": "code",
   "execution_count": 5,
   "metadata": {},
   "outputs": [],
   "source": [
    "df.to_csv(\"./data/minmaxScaler.csv\", index=None, encoding=\"cp949\")"
   ]
  },
  {
   "cell_type": "code",
   "execution_count": null,
   "metadata": {},
   "outputs": [],
   "source": []
  }
 ],
 "metadata": {
  "kernelspec": {
   "display_name": "Python 3",
   "language": "python",
   "name": "python3"
  },
  "language_info": {
   "codemirror_mode": {
    "name": "ipython",
    "version": 3
   },
   "file_extension": ".py",
   "mimetype": "text/x-python",
   "name": "python",
   "nbconvert_exporter": "python",
   "pygments_lexer": "ipython3",
   "version": "3.8.5"
  }
 },
 "nbformat": 4,
 "nbformat_minor": 4
}
