{
 "cells": [
  {
   "cell_type": "code",
   "execution_count": 1,
   "metadata": {},
   "outputs": [],
   "source": [
    "from sklearn.model_selection import train_test_split\n",
    "import pandas as pd\n",
    "import numpy as np"
   ]
  },
  {
   "cell_type": "code",
   "execution_count": 2,
   "metadata": {},
   "outputs": [
    {
     "data": {
      "text/html": [
       "<div>\n",
       "<style scoped>\n",
       "    .dataframe tbody tr th:only-of-type {\n",
       "        vertical-align: middle;\n",
       "    }\n",
       "\n",
       "    .dataframe tbody tr th {\n",
       "        vertical-align: top;\n",
       "    }\n",
       "\n",
       "    .dataframe thead th {\n",
       "        text-align: right;\n",
       "    }\n",
       "</style>\n",
       "<table border=\"1\" class=\"dataframe\">\n",
       "  <thead>\n",
       "    <tr style=\"text-align: right;\">\n",
       "      <th></th>\n",
       "      <th>Unnamed: 0</th>\n",
       "      <th>Column1</th>\n",
       "      <th>location_x</th>\n",
       "      <th>stdt</th>\n",
       "      <th>eddt</th>\n",
       "      <th>damagearea</th>\n",
       "      <th>경도</th>\n",
       "      <th>위도</th>\n",
       "      <th>상태</th>\n",
       "      <th>동두천</th>\n",
       "      <th>...</th>\n",
       "      <th>관측소</th>\n",
       "      <th>Unnamed: 0.1</th>\n",
       "      <th>location_y</th>\n",
       "      <th>date</th>\n",
       "      <th>avg_temp</th>\n",
       "      <th>min_temp</th>\n",
       "      <th>max_temp</th>\n",
       "      <th>rainfall</th>\n",
       "      <th>max_wind_speed</th>\n",
       "      <th>avg_wind</th>\n",
       "    </tr>\n",
       "  </thead>\n",
       "  <tbody>\n",
       "    <tr>\n",
       "      <th>0</th>\n",
       "      <td>0</td>\n",
       "      <td>0</td>\n",
       "      <td>경기평택</td>\n",
       "      <td>2019-08-26</td>\n",
       "      <td>2019-08-26</td>\n",
       "      <td>0.01</td>\n",
       "      <td>127.003713</td>\n",
       "      <td>37.023032</td>\n",
       "      <td>인근좌표</td>\n",
       "      <td>False</td>\n",
       "      <td>...</td>\n",
       "      <td>수원</td>\n",
       "      <td>7417.0</td>\n",
       "      <td>수원</td>\n",
       "      <td>2019-08-26</td>\n",
       "      <td>25.6</td>\n",
       "      <td>20.1</td>\n",
       "      <td>31.0</td>\n",
       "      <td>0.0</td>\n",
       "      <td>4.4</td>\n",
       "      <td>1.2</td>\n",
       "    </tr>\n",
       "    <tr>\n",
       "      <th>1</th>\n",
       "      <td>1</td>\n",
       "      <td>1</td>\n",
       "      <td>경기포천</td>\n",
       "      <td>2019-09-29</td>\n",
       "      <td>2019-09-30</td>\n",
       "      <td>0.16</td>\n",
       "      <td>127.237579</td>\n",
       "      <td>37.967668</td>\n",
       "      <td>인근좌표</td>\n",
       "      <td>True</td>\n",
       "      <td>...</td>\n",
       "      <td>동두천</td>\n",
       "      <td>2097.0</td>\n",
       "      <td>동두천</td>\n",
       "      <td>2019-09-29</td>\n",
       "      <td>19.7</td>\n",
       "      <td>14.5</td>\n",
       "      <td>27.3</td>\n",
       "      <td>0.0</td>\n",
       "      <td>2.3</td>\n",
       "      <td>0.8</td>\n",
       "    </tr>\n",
       "    <tr>\n",
       "      <th>2</th>\n",
       "      <td>2</td>\n",
       "      <td>2</td>\n",
       "      <td>경기평택</td>\n",
       "      <td>2019-10-12</td>\n",
       "      <td>2019-10-12</td>\n",
       "      <td>0.03</td>\n",
       "      <td>127.003713</td>\n",
       "      <td>37.023032</td>\n",
       "      <td>인근좌표</td>\n",
       "      <td>False</td>\n",
       "      <td>...</td>\n",
       "      <td>수원</td>\n",
       "      <td>7464.0</td>\n",
       "      <td>수원</td>\n",
       "      <td>2019-10-12</td>\n",
       "      <td>18.3</td>\n",
       "      <td>14.1</td>\n",
       "      <td>23.3</td>\n",
       "      <td>0.0</td>\n",
       "      <td>5.3</td>\n",
       "      <td>2.7</td>\n",
       "    </tr>\n",
       "    <tr>\n",
       "      <th>3</th>\n",
       "      <td>3</td>\n",
       "      <td>3</td>\n",
       "      <td>경기안양</td>\n",
       "      <td>2019-10-19</td>\n",
       "      <td>2019-10-19</td>\n",
       "      <td>0.01</td>\n",
       "      <td>126.902771</td>\n",
       "      <td>37.404544</td>\n",
       "      <td>인근좌표</td>\n",
       "      <td>False</td>\n",
       "      <td>...</td>\n",
       "      <td>수원</td>\n",
       "      <td>7471.0</td>\n",
       "      <td>수원</td>\n",
       "      <td>2019-10-19</td>\n",
       "      <td>16.0</td>\n",
       "      <td>10.4</td>\n",
       "      <td>22.2</td>\n",
       "      <td>0.0</td>\n",
       "      <td>3.7</td>\n",
       "      <td>1.2</td>\n",
       "    </tr>\n",
       "    <tr>\n",
       "      <th>4</th>\n",
       "      <td>4</td>\n",
       "      <td>4</td>\n",
       "      <td>경기가평</td>\n",
       "      <td>2019-11-07</td>\n",
       "      <td>2019-11-07</td>\n",
       "      <td>0.25</td>\n",
       "      <td>127.407659</td>\n",
       "      <td>37.811246</td>\n",
       "      <td>인근좌표</td>\n",
       "      <td>False</td>\n",
       "      <td>...</td>\n",
       "      <td>양평</td>\n",
       "      <td>10167.0</td>\n",
       "      <td>양평</td>\n",
       "      <td>2019-11-07</td>\n",
       "      <td>8.2</td>\n",
       "      <td>2.5</td>\n",
       "      <td>16.1</td>\n",
       "      <td>0.0</td>\n",
       "      <td>3.6</td>\n",
       "      <td>1.3</td>\n",
       "    </tr>\n",
       "  </tbody>\n",
       "</table>\n",
       "<p>5 rows × 24 columns</p>\n",
       "</div>"
      ],
      "text/plain": [
       "   Unnamed: 0  Column1 location_x        stdt        eddt  damagearea  \\\n",
       "0           0        0       경기평택  2019-08-26  2019-08-26        0.01   \n",
       "1           1        1       경기포천  2019-09-29  2019-09-30        0.16   \n",
       "2           2        2       경기평택  2019-10-12  2019-10-12        0.03   \n",
       "3           3        3       경기안양  2019-10-19  2019-10-19        0.01   \n",
       "4           4        4       경기가평  2019-11-07  2019-11-07        0.25   \n",
       "\n",
       "           경도         위도    상태    동두천  ...  관측소  Unnamed: 0.1  location_y  \\\n",
       "0  127.003713  37.023032  인근좌표  False  ...   수원        7417.0          수원   \n",
       "1  127.237579  37.967668  인근좌표   True  ...  동두천        2097.0         동두천   \n",
       "2  127.003713  37.023032  인근좌표  False  ...   수원        7464.0          수원   \n",
       "3  126.902771  37.404544  인근좌표  False  ...   수원        7471.0          수원   \n",
       "4  127.407659  37.811246  인근좌표  False  ...   양평       10167.0          양평   \n",
       "\n",
       "         date avg_temp  min_temp max_temp rainfall  max_wind_speed  avg_wind  \n",
       "0  2019-08-26     25.6      20.1     31.0      0.0             4.4       1.2  \n",
       "1  2019-09-29     19.7      14.5     27.3      0.0             2.3       0.8  \n",
       "2  2019-10-12     18.3      14.1     23.3      0.0             5.3       2.7  \n",
       "3  2019-10-19     16.0      10.4     22.2      0.0             3.7       1.2  \n",
       "4  2019-11-07      8.2       2.5     16.1      0.0             3.6       1.3  \n",
       "\n",
       "[5 rows x 24 columns]"
      ]
     },
     "execution_count": 2,
     "metadata": {},
     "output_type": "execute_result"
    }
   ],
   "source": [
    "data = pd.read_csv(\"./data/mapping.csv\", encoding='utf-8')\n",
    "df = pd.DataFrame(data)\n",
    "df.head()"
   ]
  },
  {
   "cell_type": "code",
   "execution_count": 3,
   "metadata": {},
   "outputs": [],
   "source": [
    "def get_data():\n",
    "    data = pd.read_csv(\"./data/mapping.csv\", encoding='utf-8')\n",
    "    df = pd.DataFrame(data[['damagearea', 'avg_temp', 'min_temp', 'max_temp', 'rainfall', 'max_wind_speed', 'avg_wind']])\n",
    "    \n",
    "    df = df.dropna(axis=0)\n",
    "    print(df.isnull().sum())\n",
    "    df = df.astype('int')\n",
    "        \n",
    "    X_train, X_test, y_train, y_test = \\\n",
    "        train_test_split(df.loc[:, df.columns!='damagearea'], df['damagearea'], test_size=.33, random_state=42)\n",
    "    \n",
    "    return [X_train, X_test, y_train, y_test]"
   ]
  },
  {
   "cell_type": "code",
   "execution_count": 4,
   "metadata": {},
   "outputs": [
    {
     "name": "stdout",
     "output_type": "stream",
     "text": [
      "damagearea        0\n",
      "avg_temp          0\n",
      "min_temp          0\n",
      "max_temp          0\n",
      "rainfall          0\n",
      "max_wind_speed    0\n",
      "avg_wind          0\n",
      "dtype: int64\n",
      "f1 score is = 0.9321533923303835\n"
     ]
    }
   ],
   "source": [
    "from sklearn.svm import SVC\n",
    "from sklearn.metrics import f1_score\n",
    "\n",
    "X_train, X_test, y_train, y_test = get_data()\n",
    "\n",
    "clf = SVC(kernel=\"linear\", C=0.5)\n",
    "clf.fit(X_train, y_train)\n",
    "\n",
    "y_pred = clf.predict(X_test)\n",
    "f1 = f1_score(y_test, y_pred, average=\"micro\")\n",
    "print('f1 score is = ' + str(f1))"
   ]
  },
  {
   "cell_type": "code",
   "execution_count": 5,
   "metadata": {},
   "outputs": [],
   "source": [
    "def get_data():\n",
    "    data = pd.read_csv(\"./data/standarScaler.csv\", encoding='utf-8')\n",
    "    df = pd.DataFrame(data)\n",
    "    \n",
    "    df = df.dropna(axis=0)\n",
    "    print(df.isnull().sum())\n",
    "    df = df.astype('int')\n",
    "        \n",
    "    X_train, X_test, y_train, y_test = \\\n",
    "        train_test_split(df.loc[:, df.columns!='damagearea'], df['damagearea'], test_size=.33, random_state=42)\n",
    "    \n",
    "    return [X_train, X_test, y_train, y_test]"
   ]
  },
  {
   "cell_type": "code",
   "execution_count": 6,
   "metadata": {},
   "outputs": [
    {
     "name": "stdout",
     "output_type": "stream",
     "text": [
      "damagearea        0\n",
      "avg_temp          0\n",
      "min_temp          0\n",
      "max_temp          0\n",
      "rainfall          0\n",
      "max_wind_speed    0\n",
      "avg_wind          0\n",
      "dtype: int64\n",
      "f1 score is = 0.9793510324483776\n"
     ]
    }
   ],
   "source": [
    "from sklearn.svm import SVC\n",
    "from sklearn.metrics import f1_score\n",
    "\n",
    "X_train, X_test, y_train, y_test = get_data()\n",
    "\n",
    "clf = SVC(kernel=\"linear\", C=0.5)\n",
    "clf.fit(X_train, y_train)\n",
    "\n",
    "y_pred = clf.predict(X_test)\n",
    "f1 = f1_score(y_test, y_pred, average=\"micro\")\n",
    "print('f1 score is = ' + str(f1))"
   ]
  },
  {
   "cell_type": "code",
   "execution_count": 7,
   "metadata": {},
   "outputs": [],
   "source": [
    "def get_data():\n",
    "    data = pd.read_csv(\"./data/minmaxScaler.csv\", encoding='utf-8')\n",
    "    df = pd.DataFrame(data)\n",
    "    \n",
    "    df = df.dropna(axis=0)\n",
    "    print(df.isnull().sum())\n",
    "    df = df.astype('int')\n",
    "        \n",
    "    X_train, X_test, y_train, y_test = \\\n",
    "        train_test_split(df.loc[:, df.columns!='damagearea'], df['damagearea'], test_size=.33, random_state=42)\n",
    "    \n",
    "    return [X_train, X_test, y_train, y_test]"
   ]
  },
  {
   "cell_type": "code",
   "execution_count": 8,
   "metadata": {},
   "outputs": [
    {
     "name": "stdout",
     "output_type": "stream",
     "text": [
      "damagearea        0\n",
      "avg_temp          0\n",
      "min_temp          0\n",
      "max_temp          0\n",
      "rainfall          0\n",
      "max_wind_speed    0\n",
      "avg_wind          0\n",
      "dtype: int64\n",
      "f1 score is = 1.0\n"
     ]
    }
   ],
   "source": [
    "from sklearn.svm import SVC\n",
    "from sklearn.metrics import f1_score\n",
    "\n",
    "X_train, X_test, y_train, y_test = get_data()\n",
    "\n",
    "clf = SVC(kernel=\"linear\", C=0.5)\n",
    "clf.fit(X_train, y_train)\n",
    "\n",
    "y_pred = clf.predict(X_test)\n",
    "f1 = f1_score(y_test, y_pred, average=\"micro\")\n",
    "print('f1 score is = ' + str(f1))"
   ]
  },
  {
   "cell_type": "code",
   "execution_count": 9,
   "metadata": {},
   "outputs": [],
   "source": [
    "def get_data():\n",
    "    data = pd.read_csv(\"./data/label.csv\", encoding='cp949')\n",
    "    df = pd.DataFrame(data[['damagearea', 'avg_temp', 'min_temp', 'max_temp', 'rainfall', 'max_wind_speed', 'avg_wind', 'label']])\n",
    "    \n",
    "    df = df.dropna(axis=0)\n",
    "    print(df.isnull().sum())\n",
    "    df = df.astype('int')\n",
    "        \n",
    "    X_train, X_test, y_train, y_test = \\\n",
    "        train_test_split(df.loc[:, df.columns!='damagearea'], df['damagearea'], test_size=.33, random_state=42)\n",
    "    \n",
    "    return [X_train, X_test, y_train, y_test]"
   ]
  },
  {
   "cell_type": "code",
   "execution_count": 10,
   "metadata": {},
   "outputs": [
    {
     "name": "stdout",
     "output_type": "stream",
     "text": [
      "damagearea        0\n",
      "avg_temp          0\n",
      "min_temp          0\n",
      "max_temp          0\n",
      "rainfall          0\n",
      "max_wind_speed    0\n",
      "avg_wind          0\n",
      "label             0\n",
      "dtype: int64\n",
      "f1 score is = 0.9321533923303835\n"
     ]
    }
   ],
   "source": [
    "from sklearn.svm import SVC\n",
    "from sklearn.metrics import f1_score\n",
    "\n",
    "X_train, X_test, y_train, y_test = get_data()\n",
    "\n",
    "clf = SVC(kernel=\"linear\", C=0.5)\n",
    "clf.fit(X_train, y_train)\n",
    "\n",
    "y_pred = clf.predict(X_test)\n",
    "f1 = f1_score(y_test, y_pred, average=\"micro\")\n",
    "print('f1 score is = ' + str(f1))"
   ]
  },
  {
   "cell_type": "code",
   "execution_count": 11,
   "metadata": {},
   "outputs": [],
   "source": [
    "def get_data():\n",
    "    data = pd.read_csv(\"./data/labelStandarScaler.csv\", encoding='utf-8')\n",
    "    df = pd.DataFrame(data)\n",
    "    \n",
    "    df = df.dropna(axis=0)\n",
    "    print(df.isnull().sum())\n",
    "    df = df.astype('int')\n",
    "        \n",
    "    X_train, X_test, y_train, y_test = \\\n",
    "        train_test_split(df.loc[:, df.columns!='damagearea'], df['damagearea'], test_size=.33, random_state=42)\n",
    "    \n",
    "    return [X_train, X_test, y_train, y_test]"
   ]
  },
  {
   "cell_type": "code",
   "execution_count": 12,
   "metadata": {},
   "outputs": [
    {
     "name": "stdout",
     "output_type": "stream",
     "text": [
      "damagearea        0\n",
      "avg_temp          0\n",
      "min_temp          0\n",
      "max_temp          0\n",
      "rainfall          0\n",
      "max_wind_speed    0\n",
      "avg_wind          0\n",
      "label             0\n",
      "dtype: int64\n",
      "f1 score is = 0.9793510324483776\n"
     ]
    }
   ],
   "source": [
    "from sklearn.svm import SVC\n",
    "from sklearn.metrics import f1_score\n",
    "\n",
    "X_train, X_test, y_train, y_test = get_data()\n",
    "\n",
    "clf = SVC(kernel=\"linear\", C=0.5)\n",
    "clf.fit(X_train, y_train)\n",
    "\n",
    "y_pred = clf.predict(X_test)\n",
    "f1 = f1_score(y_test, y_pred, average=\"micro\")\n",
    "print('f1 score is = ' + str(f1))"
   ]
  },
  {
   "cell_type": "code",
   "execution_count": 13,
   "metadata": {},
   "outputs": [],
   "source": [
    "def get_data():\n",
    "    data = pd.read_csv(\"./data/labelStandarScaler.csv\", encoding='utf-8')\n",
    "    df = pd.DataFrame(data)\n",
    "    \n",
    "    df = df.dropna(axis=0)\n",
    "    print(df.isnull().sum())\n",
    "    df = df.astype('int')\n",
    "    \n",
    "    label_1 = df[df['label']==1]  # 0.01 ~ 0.03\n",
    "    X_train1, X_test1, y_train1, y_test1 = \\\n",
    "        train_test_split(label_1.loc[:, label_1.columns!='damagearea'], label_1['damagearea'], test_size=.33, random_state=42)\n",
    "    label_2 = df[df['label']==2]  # 0.04 ~ 0.15\n",
    "    X_train2, X_test2, y_train2, y_test2 = \\\n",
    "        train_test_split(label_2.loc[:, label_2.columns!='damagearea'], label_2['damagearea'], test_size=.33, random_state=42)\n",
    "    label_3 = df[df['label']==3] # 0.16 ~ \n",
    "    X_train3, X_test3, y_train3, y_test3 = \\\n",
    "        train_test_split(label_3.loc[:, label_3.columns!='damagearea'], label_3['damagearea'], test_size=.33, random_state=42)\n",
    "    \n",
    "    X_train = pd.concat([X_train1, X_train2], axis=0)\n",
    "    X_test = pd.concat([X_test1, X_test2], axis=0)\n",
    "    y_train = pd.concat([y_train1, y_train2], axis=0)\n",
    "    y_test = pd.concat([y_test1, y_test2], axis=0)\n",
    "    \n",
    "    X_train = pd.concat([X_train, X_train3], axis=0)\n",
    "    X_test = pd.concat([X_test, X_test3], axis=0)\n",
    "    y_train = pd.concat([y_train, y_train3], axis=0)\n",
    "    y_test = pd.concat([y_test, y_test3], axis=0)   \n",
    "    \n",
    "#     print(X_train.isnull().sum())\n",
    "#     print(X_test.isnull().sum())\n",
    "#     print(y_train.isnull().sum())\n",
    "#     print(y_test.isnull().sum())\n",
    "    \n",
    "    return [X_train, X_test, y_train, y_test]"
   ]
  },
  {
   "cell_type": "code",
   "execution_count": 14,
   "metadata": {},
   "outputs": [
    {
     "name": "stdout",
     "output_type": "stream",
     "text": [
      "damagearea        0\n",
      "avg_temp          0\n",
      "min_temp          0\n",
      "max_temp          0\n",
      "rainfall          0\n",
      "max_wind_speed    0\n",
      "avg_wind          0\n",
      "label             0\n",
      "dtype: int64\n",
      "f1 score is = 0.9764705882352941\n"
     ]
    }
   ],
   "source": [
    "from sklearn.svm import SVC\n",
    "from sklearn.metrics import f1_score\n",
    "\n",
    "X_train, X_test, y_train, y_test = get_data()\n",
    "\n",
    "clf = SVC(kernel=\"linear\", C=0.5)\n",
    "clf.fit(X_train, y_train)\n",
    "\n",
    "y_pred = clf.predict(X_test)\n",
    "f1 = f1_score(y_test, y_pred, average=\"micro\")\n",
    "print('f1 score is = ' + str(f1))"
   ]
  },
  {
   "cell_type": "code",
   "execution_count": 15,
   "metadata": {},
   "outputs": [
    {
     "name": "stdout",
     "output_type": "stream",
     "text": [
      "damagearea        0\n",
      "avg_temp          0\n",
      "min_temp          0\n",
      "max_temp          0\n",
      "rainfall          0\n",
      "max_wind_speed    0\n",
      "avg_wind          0\n",
      "label             0\n",
      "dtype: int64\n",
      "f1 score is = 0.9764705882352941\n"
     ]
    }
   ],
   "source": [
    "from sklearn.svm import SVC\n",
    "from sklearn.metrics import f1_score\n",
    "\n",
    "X_train, X_test, y_train, y_test = get_data()\n",
    "\n",
    "clf = SVC(kernel=\"linear\", C=0.4)\n",
    "clf.fit(X_train, y_train)\n",
    "\n",
    "y_pred = clf.predict(X_test)\n",
    "f1 = f1_score(y_test, y_pred, average=\"micro\")\n",
    "print('f1 score is = ' + str(f1))"
   ]
  },
  {
   "cell_type": "code",
   "execution_count": 16,
   "metadata": {},
   "outputs": [
    {
     "name": "stdout",
     "output_type": "stream",
     "text": [
      "damagearea        0\n",
      "avg_temp          0\n",
      "min_temp          0\n",
      "max_temp          0\n",
      "rainfall          0\n",
      "max_wind_speed    0\n",
      "avg_wind          0\n",
      "label             0\n",
      "dtype: int64\n",
      "f1 score is = 0.9764705882352941\n"
     ]
    }
   ],
   "source": [
    "from sklearn.svm import SVC\n",
    "from sklearn.metrics import f1_score\n",
    "\n",
    "X_train, X_test, y_train, y_test = get_data()\n",
    "\n",
    "clf = SVC(kernel=\"linear\", C=1)\n",
    "clf.fit(X_train, y_train)\n",
    "\n",
    "y_pred = clf.predict(X_test)\n",
    "f1 = f1_score(y_test, y_pred, average=\"micro\")\n",
    "print('f1 score is = ' + str(f1))"
   ]
  },
  {
   "cell_type": "code",
   "execution_count": 17,
   "metadata": {},
   "outputs": [
    {
     "name": "stdout",
     "output_type": "stream",
     "text": [
      "damagearea        0\n",
      "avg_temp          0\n",
      "min_temp          0\n",
      "max_temp          0\n",
      "rainfall          0\n",
      "max_wind_speed    0\n",
      "avg_wind          0\n",
      "label             0\n",
      "dtype: int64\n",
      "f1 score is = 0.9764705882352941\n"
     ]
    }
   ],
   "source": [
    "from sklearn.svm import SVC\n",
    "from sklearn.metrics import f1_score\n",
    "\n",
    "X_train, X_test, y_train, y_test = get_data()\n",
    "\n",
    "clf = SVC(kernel=\"linear\", C=0.8)\n",
    "clf.fit(X_train, y_train)\n",
    "\n",
    "y_pred = clf.predict(X_test)\n",
    "f1 = f1_score(y_test, y_pred, average=\"micro\")\n",
    "print('f1 score is = ' + str(f1))"
   ]
  },
  {
   "cell_type": "code",
   "execution_count": null,
   "metadata": {},
   "outputs": [],
   "source": []
  }
 ],
 "metadata": {
  "kernelspec": {
   "display_name": "Python 3",
   "language": "python",
   "name": "python3"
  },
  "language_info": {
   "codemirror_mode": {
    "name": "ipython",
    "version": 3
   },
   "file_extension": ".py",
   "mimetype": "text/x-python",
   "name": "python",
   "nbconvert_exporter": "python",
   "pygments_lexer": "ipython3",
   "version": "3.8.5"
  }
 },
 "nbformat": 4,
 "nbformat_minor": 4
}
