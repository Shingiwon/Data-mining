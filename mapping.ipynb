{
 "cells": [
  {
   "cell_type": "code",
   "execution_count": 1,
   "metadata": {},
   "outputs": [
    {
     "name": "stdout",
     "output_type": "stream",
     "text": [
      "        No  Column1 location        stdt        eddt  damagearea          경도  \\\n",
      "0        1        0     경기평택  2019-08-26  2019-08-26        0.01  127.003713   \n",
      "1        2        1     경기포천  2019-09-29  2019-09-30        0.16  127.237579   \n",
      "2        3        2     경기평택  2019-10-12  2019-10-12        0.03  127.003713   \n",
      "3        4        3     경기안양  2019-10-19  2019-10-19        0.01  126.902771   \n",
      "4        5        4     경기가평  2019-11-07  2019-11-07        0.25  127.407659   \n",
      "...    ...      ...      ...         ...         ...         ...         ...   \n",
      "1055  1056     1055    경기남양주  2017-03-18  2017-03-18        0.05  127.258003   \n",
      "1056  1057     1056    경기남양주  2017-03-18  2017-03-18        0.02  127.258003   \n",
      "1057  1058     1057     경기양평  2017-03-18  2017-03-18        2.00  127.581096   \n",
      "1058  1059     1058     경기가평  2017-03-18  2017-03-18        0.15  127.407659   \n",
      "1059  1060     1059     경기양평  2017-03-19  2017-03-19        1.30  127.581096   \n",
      "\n",
      "             위도    상태  \n",
      "0     37.023032  인근좌표  \n",
      "1     37.967668  인근좌표  \n",
      "2     37.023032  인근좌표  \n",
      "3     37.404544  인근좌표  \n",
      "4     37.811246  인근좌표  \n",
      "...         ...   ...  \n",
      "1055  37.642970  인근좌표  \n",
      "1056  37.642970  인근좌표  \n",
      "1057  37.518996  인근좌표  \n",
      "1058  37.811246  인근좌표  \n",
      "1059  37.518996  인근좌표  \n",
      "\n",
      "[1060 rows x 9 columns]\n"
     ]
    }
   ],
   "source": [
    "import pandas as pd\n",
    "from scipy.spatial import distance\n",
    "import numpy as np\n",
    "\n",
    "df = pd.read_csv('./data/fireData_mapping.csv', encoding='CP949')\n",
    "# 관측소 좌표\n",
    "station = np.array([[127.0607, 37.90188 ],[126.983, 37.25746 ],[127.49446, 37.48863 ],[127.48421, 37.26399 ],[126.76648, 37.88589 ]])\n",
    "station_name = ['동두천', '수원','양평','이천','파주']\n",
    "\n",
    "print(df)\n"
   ]
  },
  {
   "cell_type": "code",
   "execution_count": 2,
   "metadata": {},
   "outputs": [
    {
     "name": "stdout",
     "output_type": "stream",
     "text": [
      "           동두천        수원        양평        이천        파주\n",
      "No                                                    \n",
      "1     0.880694  0.235341  0.676472  0.537530  0.894876\n",
      "2     0.188717  0.754457  0.543567  0.745647  0.478144\n",
      "3     0.880694  0.235341  0.676472  0.537530  0.894876\n",
      "4     0.521809  0.167542  0.597634  0.598187  0.500269\n",
      "5     0.358602  0.697864  0.334089  0.552584  0.645510\n",
      "...        ...       ...       ...       ...       ...\n",
      "1056  0.325520  0.473545  0.282369  0.441356  0.548275\n",
      "1057  0.325520  0.473545  0.282369  0.441356  0.548275\n",
      "1058  0.646074  0.652778  0.091803  0.272791  0.893426\n",
      "1059  0.358602  0.697864  0.334089  0.552584  0.645510\n",
      "1060  0.646074  0.652778  0.091803  0.272791  0.893426\n",
      "\n",
      "[1046 rows x 5 columns]\n"
     ]
    }
   ],
   "source": [
    "df = df[df['경도']<128]\n",
    "\n",
    "df_No = df['No']\n",
    "# 위도 경도를 2중 리스트로 만듬\n",
    "df_numpy = df.loc[:,'경도':'위도'].values\n",
    "location = df['location']\n",
    "df2 = df.set_index(\"No\")\n",
    "result=[]\n",
    "# 거리 계산\n",
    "for i in df_numpy:\n",
    "    for j in station:\n",
    "        tmp = distance.euclidean(i, j)\n",
    "        result.append(tmp)\n",
    "        \n",
    "result = np.array(result)\n",
    "result = np.reshape(result, (len(df_numpy), len(station)))\n",
    "result = pd.DataFrame(result, columns=station_name, index=df_No)\n",
    "print(result)"
   ]
  },
  {
   "cell_type": "code",
   "execution_count": 3,
   "metadata": {},
   "outputs": [
    {
     "name": "stdout",
     "output_type": "stream",
     "text": [
      "        동두천     수원     양평     이천     파주\n",
      "No                                     \n",
      "1     False   True  False  False  False\n",
      "2      True  False  False  False  False\n",
      "3     False   True  False  False  False\n",
      "4     False   True  False  False  False\n",
      "5     False  False   True  False  False\n",
      "...     ...    ...    ...    ...    ...\n",
      "1056  False  False   True  False  False\n",
      "1057  False  False   True  False  False\n",
      "1058  False  False   True  False  False\n",
      "1059  False  False   True  False  False\n",
      "1060  False  False   True  False  False\n",
      "\n",
      "[1046 rows x 5 columns]\n",
      "No    1      2      3      4      5      6      7      8      9      10    \\\n",
      "동두천  False   True  False  False  False  False  False  False  False  False   \n",
      "수원    True  False   True   True  False  False   True  False  False  False   \n",
      "양평   False  False  False  False   True   True  False   True   True  False   \n",
      "이천   False  False  False  False  False  False  False  False  False  False   \n",
      "파주   False  False  False  False  False  False  False  False  False   True   \n",
      "\n",
      "No   ...   1051   1052   1053   1054   1055   1056   1057   1058   1059   1060  \n",
      "동두천  ...   True  False  False  False  False  False  False  False  False  False  \n",
      "수원   ...  False  False  False  False  False  False  False  False  False  False  \n",
      "양평   ...  False   True  False  False  False   True   True   True   True   True  \n",
      "이천   ...  False  False   True   True  False  False  False  False  False  False  \n",
      "파주   ...  False  False  False  False   True  False  False  False  False  False  \n",
      "\n",
      "[5 rows x 1046 columns]\n"
     ]
    }
   ],
   "source": [
    "# 가장 가까운 관측소 찾기\n",
    "near = result.loc[:,'동두천':'파주'].min(axis=1)\n",
    "value = near.values\n",
    "result = result.loc[:,:].isin(value)\n",
    "print(result)\n",
    "# result['관측소'] = value\n",
    "result_t = result.transpose()\n",
    "last = pd.concat([df2, result], axis=1)\n",
    "print(result_t)"
   ]
  },
  {
   "cell_type": "code",
   "execution_count": 4,
   "metadata": {},
   "outputs": [
    {
     "name": "stdout",
     "output_type": "stream",
     "text": [
      "      Column1 location        stdt        eddt  damagearea          경도  \\\n",
      "No                                                                       \n",
      "1           0     경기평택  2019-08-26  2019-08-26        0.01  127.003713   \n",
      "2           1     경기포천  2019-09-29  2019-09-30        0.16  127.237579   \n",
      "3           2     경기평택  2019-10-12  2019-10-12        0.03  127.003713   \n",
      "4           3     경기안양  2019-10-19  2019-10-19        0.01  126.902771   \n",
      "5           4     경기가평  2019-11-07  2019-11-07        0.25  127.407659   \n",
      "...       ...      ...         ...         ...         ...         ...   \n",
      "1056     1055    경기남양주  2017-03-18  2017-03-18        0.05  127.258003   \n",
      "1057     1056    경기남양주  2017-03-18  2017-03-18        0.02  127.258003   \n",
      "1058     1057     경기양평  2017-03-18  2017-03-18        2.00  127.581096   \n",
      "1059     1058     경기가평  2017-03-18  2017-03-18        0.15  127.407659   \n",
      "1060     1059     경기양평  2017-03-19  2017-03-19        1.30  127.581096   \n",
      "\n",
      "             위도    상태    동두천     수원     양평     이천     파주  관측소  \n",
      "No                                                             \n",
      "1     37.023032  인근좌표  False   True  False  False  False   수원  \n",
      "2     37.967668  인근좌표   True  False  False  False  False  동두천  \n",
      "3     37.023032  인근좌표  False   True  False  False  False   수원  \n",
      "4     37.404544  인근좌표  False   True  False  False  False   수원  \n",
      "5     37.811246  인근좌표  False  False   True  False  False   양평  \n",
      "...         ...   ...    ...    ...    ...    ...    ...  ...  \n",
      "1056  37.642970  인근좌표  False  False   True  False  False   양평  \n",
      "1057  37.642970  인근좌표  False  False   True  False  False   양평  \n",
      "1058  37.518996  인근좌표  False  False   True  False  False   양평  \n",
      "1059  37.811246  인근좌표  False  False   True  False  False   양평  \n",
      "1060  37.518996  인근좌표  False  False   True  False  False   양평  \n",
      "\n",
      "[1046 rows x 14 columns]\n"
     ]
    }
   ],
   "source": [
    "# 가장 짧은 거리의 관측소 이름 가져오기\n",
    "st=[]\n",
    "for i in result_t:\n",
    "    st.append(result_t.index[result_t[i]].tolist()[0])\n",
    "last['관측소'] = st\n",
    "print(last)"
   ]
  },
  {
   "cell_type": "code",
   "execution_count": 5,
   "metadata": {},
   "outputs": [
    {
     "name": "stdout",
     "output_type": "stream",
     "text": [
      "      Column1 location_x        stdt        eddt  damagearea          경도  \\\n",
      "0           0       경기평택  2019-08-26  2019-08-26        0.01  127.003713   \n",
      "1           1       경기포천  2019-09-29  2019-09-30        0.16  127.237579   \n",
      "2           2       경기평택  2019-10-12  2019-10-12        0.03  127.003713   \n",
      "3           3       경기안양  2019-10-19  2019-10-19        0.01  126.902771   \n",
      "4           4       경기가평  2019-11-07  2019-11-07        0.25  127.407659   \n",
      "...       ...        ...         ...         ...         ...         ...   \n",
      "1041     1055      경기남양주  2017-03-18  2017-03-18        0.05  127.258003   \n",
      "1042     1056      경기남양주  2017-03-18  2017-03-18        0.02  127.258003   \n",
      "1043     1057       경기양평  2017-03-18  2017-03-18        2.00  127.581096   \n",
      "1044     1058       경기가평  2017-03-18  2017-03-18        0.15  127.407659   \n",
      "1045     1059       경기양평  2017-03-19  2017-03-19        1.30  127.581096   \n",
      "\n",
      "             위도    상태    동두천     수원  ...  관측소  Unnamed: 0  location_y  \\\n",
      "0     37.023032  인근좌표  False   True  ...   수원      7417.0          수원   \n",
      "1     37.967668  인근좌표   True  False  ...  동두천      2097.0         동두천   \n",
      "2     37.023032  인근좌표  False   True  ...   수원      7464.0          수원   \n",
      "3     37.404544  인근좌표  False   True  ...   수원      7471.0          수원   \n",
      "4     37.811246  인근좌표  False  False  ...   양평     10167.0          양평   \n",
      "...         ...   ...    ...    ...  ...  ...         ...         ...   \n",
      "1041  37.642970  인근좌표  False  False  ...   양평      9203.0          양평   \n",
      "1042  37.642970  인근좌표  False  False  ...   양평      9203.0          양평   \n",
      "1043  37.518996  인근좌표  False  False  ...   양평      9203.0          양평   \n",
      "1044  37.811246  인근좌표  False  False  ...   양평      9203.0          양평   \n",
      "1045  37.518996  인근좌표  False  False  ...   양평      9204.0          양평   \n",
      "\n",
      "            date  avg_temp min_temp max_temp  rainfall  max_wind_speed  \\\n",
      "0     2019-08-26      25.6     20.1     31.0       0.0             4.4   \n",
      "1     2019-09-29      19.7     14.5     27.3       0.0             2.3   \n",
      "2     2019-10-12      18.3     14.1     23.3       0.0             5.3   \n",
      "3     2019-10-19      16.0     10.4     22.2       0.0             3.7   \n",
      "4     2019-11-07       8.2      2.5     16.1       0.0             3.6   \n",
      "...          ...       ...      ...      ...       ...             ...   \n",
      "1041  2017-03-18       8.8      3.3     16.9       0.0             5.0   \n",
      "1042  2017-03-18       8.8      3.3     16.9       0.0             5.0   \n",
      "1043  2017-03-18       8.8      3.3     16.9       0.0             5.0   \n",
      "1044  2017-03-18       8.8      3.3     16.9       0.0             5.0   \n",
      "1045  2017-03-19       8.7     -0.9     19.4       0.0             3.0   \n",
      "\n",
      "      avg_wind  \n",
      "0          1.2  \n",
      "1          0.8  \n",
      "2          2.7  \n",
      "3          1.2  \n",
      "4          1.3  \n",
      "...        ...  \n",
      "1041       1.7  \n",
      "1042       1.7  \n",
      "1043       1.7  \n",
      "1044       1.7  \n",
      "1045       1.1  \n",
      "\n",
      "[1046 rows x 23 columns]\n"
     ]
    }
   ],
   "source": [
    "weather = pd.read_csv('./data/weather.csv', encoding='CP949')\n",
    "\n",
    "all = pd.merge(left = last, right = weather, left_on=['관측소', 'stdt'], right_on=['location','date'],how = 'left')\n",
    "\n",
    "print(all)\n",
    "all.to_csv('./data/mapping.csv', encoding = 'utf-8')"
   ]
  },
  {
   "cell_type": "code",
   "execution_count": null,
   "metadata": {},
   "outputs": [],
   "source": []
  }
 ],
 "metadata": {
  "kernelspec": {
   "display_name": "Python 3",
   "language": "python",
   "name": "python3"
  },
  "language_info": {
   "codemirror_mode": {
    "name": "ipython",
    "version": 3
   },
   "file_extension": ".py",
   "mimetype": "text/x-python",
   "name": "python",
   "nbconvert_exporter": "python",
   "pygments_lexer": "ipython3",
   "version": "3.8.5"
  }
 },
 "nbformat": 4,
 "nbformat_minor": 4
}
