{
 "cells": [
  {
   "cell_type": "code",
   "execution_count": 1,
   "metadata": {
    "scrolled": false
   },
   "outputs": [
    {
     "name": "stdout",
     "output_type": "stream",
     "text": [
      "['exdata03', 'fireData.csv', 'label.csv', 'labelStandarScaler.csv', 'mapping.csv', 'minmaxScaler.csv', 'OBS_ASOS_DD_20210519230918.csv', 'standarScaler.csv', 'weather.csv']\n"
     ]
    }
   ],
   "source": [
    "import os\n",
    "\n",
    "path = \"./data/\"\n",
    "file_list = os.listdir(path)\n",
    "print(file_list)"
   ]
  },
  {
   "cell_type": "code",
   "execution_count": 2,
   "metadata": {
    "scrolled": false
   },
   "outputs": [
    {
     "name": "stdout",
     "output_type": "stream",
     "text": [
      "   location        date  avg_temp  min_temp  max_temp  rainfall  \\\n",
      "0        98  2014-01-01       2.7      -2.7       7.1       NaN   \n",
      "1        98  2014-01-02       0.4      -4.3       6.5       NaN   \n",
      "2        98  2014-01-03       0.1      -4.2       5.8       NaN   \n",
      "3        98  2014-01-04      -1.1      -5.5       4.6       NaN   \n",
      "4        98  2014-01-05      -2.0      -6.5       4.0       NaN   \n",
      "\n",
      "   max_wind_speed  avg_wind  \n",
      "0             7.9       2.6  \n",
      "1             3.8       1.2  \n",
      "2             2.7       1.0  \n",
      "3             3.5       1.7  \n",
      "4             4.2       1.1  \n"
     ]
    }
   ],
   "source": [
    "import pandas as pd\n",
    "\n",
    "\n",
    "name = [\"지점\", \"일시\", \"평균기온(°C)\", \"최저기온(°C)\", \"최고기온(°C)\", \"일강수량(mm)\", \"최대 풍속(m/s)\", \"평균 풍속(m/s)\"]\n",
    "\n",
    "file = pd.read_csv(\"./data/OBS_ASOS_DD_20210519230918.csv\", encoding=\"cp949\")\n",
    "weather = file[name]\n",
    "weather.columns=[\"location\", \"date\", \"avg_temp\", \"min_temp\", \"max_temp\", \"rainfall\", \"max_wind_speed\", \"avg_wind\"]\n",
    "print(weather.head())"
   ]
  },
  {
   "cell_type": "code",
   "execution_count": 3,
   "metadata": {},
   "outputs": [
    {
     "data": {
      "text/html": [
       "<div>\n",
       "<style scoped>\n",
       "    .dataframe tbody tr th:only-of-type {\n",
       "        vertical-align: middle;\n",
       "    }\n",
       "\n",
       "    .dataframe tbody tr th {\n",
       "        vertical-align: top;\n",
       "    }\n",
       "\n",
       "    .dataframe thead th {\n",
       "        text-align: right;\n",
       "    }\n",
       "</style>\n",
       "<table border=\"1\" class=\"dataframe\">\n",
       "  <thead>\n",
       "    <tr style=\"text-align: right;\">\n",
       "      <th></th>\n",
       "      <th>location</th>\n",
       "      <th>date</th>\n",
       "      <th>avg_temp</th>\n",
       "      <th>min_temp</th>\n",
       "      <th>max_temp</th>\n",
       "      <th>rainfall</th>\n",
       "      <th>max_wind_speed</th>\n",
       "      <th>avg_wind</th>\n",
       "    </tr>\n",
       "  </thead>\n",
       "  <tbody>\n",
       "    <tr>\n",
       "      <th>0</th>\n",
       "      <td>동두천</td>\n",
       "      <td>2014-01-01</td>\n",
       "      <td>2.7</td>\n",
       "      <td>-2.7</td>\n",
       "      <td>7.1</td>\n",
       "      <td>NaN</td>\n",
       "      <td>7.9</td>\n",
       "      <td>2.6</td>\n",
       "    </tr>\n",
       "    <tr>\n",
       "      <th>1</th>\n",
       "      <td>동두천</td>\n",
       "      <td>2014-01-02</td>\n",
       "      <td>0.4</td>\n",
       "      <td>-4.3</td>\n",
       "      <td>6.5</td>\n",
       "      <td>NaN</td>\n",
       "      <td>3.8</td>\n",
       "      <td>1.2</td>\n",
       "    </tr>\n",
       "    <tr>\n",
       "      <th>2</th>\n",
       "      <td>동두천</td>\n",
       "      <td>2014-01-03</td>\n",
       "      <td>0.1</td>\n",
       "      <td>-4.2</td>\n",
       "      <td>5.8</td>\n",
       "      <td>NaN</td>\n",
       "      <td>2.7</td>\n",
       "      <td>1.0</td>\n",
       "    </tr>\n",
       "    <tr>\n",
       "      <th>3</th>\n",
       "      <td>동두천</td>\n",
       "      <td>2014-01-04</td>\n",
       "      <td>-1.1</td>\n",
       "      <td>-5.5</td>\n",
       "      <td>4.6</td>\n",
       "      <td>NaN</td>\n",
       "      <td>3.5</td>\n",
       "      <td>1.7</td>\n",
       "    </tr>\n",
       "    <tr>\n",
       "      <th>4</th>\n",
       "      <td>동두천</td>\n",
       "      <td>2014-01-05</td>\n",
       "      <td>-2.0</td>\n",
       "      <td>-6.5</td>\n",
       "      <td>4.0</td>\n",
       "      <td>NaN</td>\n",
       "      <td>4.2</td>\n",
       "      <td>1.1</td>\n",
       "    </tr>\n",
       "  </tbody>\n",
       "</table>\n",
       "</div>"
      ],
      "text/plain": [
       "  location        date  avg_temp  min_temp  max_temp  rainfall  \\\n",
       "0      동두천  2014-01-01       2.7      -2.7       7.1       NaN   \n",
       "1      동두천  2014-01-02       0.4      -4.3       6.5       NaN   \n",
       "2      동두천  2014-01-03       0.1      -4.2       5.8       NaN   \n",
       "3      동두천  2014-01-04      -1.1      -5.5       4.6       NaN   \n",
       "4      동두천  2014-01-05      -2.0      -6.5       4.0       NaN   \n",
       "\n",
       "   max_wind_speed  avg_wind  \n",
       "0             7.9       2.6  \n",
       "1             3.8       1.2  \n",
       "2             2.7       1.0  \n",
       "3             3.5       1.7  \n",
       "4             4.2       1.1  "
      ]
     },
     "execution_count": 3,
     "metadata": {},
     "output_type": "execute_result"
    }
   ],
   "source": [
    "location = {98:'동두천', 119:'수원', 202:'양평', 203:'이천', 99:'파주'}\n",
    "\n",
    "weather = weather.replace({'location':location})\n",
    "weather.head()"
   ]
  },
  {
   "cell_type": "code",
   "execution_count": 4,
   "metadata": {},
   "outputs": [
    {
     "data": {
      "text/plain": [
       "location             0\n",
       "date                 0\n",
       "avg_temp            14\n",
       "min_temp             1\n",
       "max_temp             0\n",
       "rainfall          9060\n",
       "max_wind_speed       1\n",
       "avg_wind             9\n",
       "dtype: int64"
      ]
     },
     "execution_count": 4,
     "metadata": {},
     "output_type": "execute_result"
    }
   ],
   "source": [
    "weather.isnull().sum()"
   ]
  },
  {
   "cell_type": "code",
   "execution_count": 5,
   "metadata": {},
   "outputs": [
    {
     "data": {
      "text/plain": [
       "location          0\n",
       "date              0\n",
       "avg_temp          0\n",
       "min_temp          0\n",
       "max_temp          0\n",
       "rainfall          0\n",
       "max_wind_speed    0\n",
       "avg_wind          0\n",
       "dtype: int64"
      ]
     },
     "execution_count": 5,
     "metadata": {},
     "output_type": "execute_result"
    }
   ],
   "source": [
    "weather[['rainfall']] = weather[['rainfall']].fillna(0)\n",
    "weather = weather.fillna(method='ffill', limit=4)\n",
    "if weather.isnull().values.any() == True:\n",
    "    weather_7 = weather_7.fillna(method='bfill', limit=4)\n",
    "\n",
    "weather.isnull().sum()"
   ]
  },
  {
   "cell_type": "code",
   "execution_count": 6,
   "metadata": {},
   "outputs": [],
   "source": [
    "weather.to_csv(\"./data/weather.csv\", encoding=\"cp949\")"
   ]
  },
  {
   "cell_type": "code",
   "execution_count": null,
   "metadata": {},
   "outputs": [],
   "source": []
  }
 ],
 "metadata": {
  "kernelspec": {
   "display_name": "Python 3",
   "language": "python",
   "name": "python3"
  },
  "language_info": {
   "codemirror_mode": {
    "name": "ipython",
    "version": 3
   },
   "file_extension": ".py",
   "mimetype": "text/x-python",
   "name": "python",
   "nbconvert_exporter": "python",
   "pygments_lexer": "ipython3",
   "version": "3.8.5"
  }
 },
 "nbformat": 4,
 "nbformat_minor": 4
}
