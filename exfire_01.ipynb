{
 "cells": [
  {
   "cell_type": "code",
   "execution_count": 2,
   "metadata": {},
   "outputs": [],
   "source": [
    "import xmltodict\n",
    "import json\n",
    "import requests\n",
    "\n",
    "key = 'SbhY7%2F%2FM1mJ2WXToKoUGFlCefHed00VgiY4u3YFGEFZNWsnYesKxAkBa7Jx9na8aryXBS7KkN5VuztEXbACzuQ%3D%3D'\n",
    "stdt = 20140101\n",
    "eddt = 20211231\n",
    "\n",
    "apiUrl = 'http://apis.data.go.kr/1400000/forestStusService/getfirestatsservice?serviceKey='+ key +'&searchStDt=' + str(stdt) + '&searchEdDt=' + str(eddt) + '&pageNo=1&numOfRows=10000'\n",
    "\n",
    "req = requests.get(apiUrl)\n",
    "xpars = xmltodict.parse(req.text)\n",
    "jsonDump = json.dumps(xpars)\n",
    "jsonBody = json.loads(jsonDump)\n"
   ]
  },
  {
   "cell_type": "code",
   "execution_count": 3,
   "metadata": {
    "scrolled": true
   },
   "outputs": [
    {
     "name": "stdout",
     "output_type": "stream",
     "text": [
      "     damagearea endday endmonth   endtime endyear firecause locbunji locdong  \\\n",
      "0          0.01     29       11  12:44:00    2018        기타      산34      대문   \n",
      "1          0.08     26       08  18:00:00    2019     입산자실화     산102      검산   \n",
      "2          0.01     26       08  16:50:00    2019        기타     산120      석정   \n",
      "3          0.02     19       09  16:20:00    2019     쓰레기소각      6-4      녹도   \n",
      "4          0.16     30       09  18:00:00    2019     입산자실화     산267      도평   \n",
      "...         ...    ...      ...       ...     ...       ...      ...     ...   \n",
      "4241        1.3     19       03  13:20:00    2017   농산폐기물소각      산70      항금   \n",
      "4242       0.03     19       03  13:30:00    2017  기타(직접입력)       산6      노래   \n",
      "4243        0.1     19       03  14:58:00    2017   농산폐기물소각      산82      오산   \n",
      "4244       0.03     19       03  14:25:00    2017   농산폐기물소각       산2      덕흥   \n",
      "4245        0.2     19       03  15:00:00    2017     쓰레기소각     산191      범도   \n",
      "\n",
      "     locgungu locmenu locsi startday startdayofweek startmonth starttime  \\\n",
      "0          진천      백곡    충북       29            목요일         11  12:14:00   \n",
      "1          홍천      서석    강원       26            월요일         08  12:10:00   \n",
      "2          평택      포승    경기       26            월요일         08  16:22:00   \n",
      "3          보령      오천    충남       19            목요일         09  10:38:00   \n",
      "4          포천      이동    경기       29            일요일         09  17:42:00   \n",
      "...       ...     ...   ...      ...            ...        ...       ...   \n",
      "4241       양평      강하    경기       19            일요일         03  11:29:00   \n",
      "4242       청송      안덕    경북       19            일요일         03  11:35:00   \n",
      "4243       안동      북후    경북       19            일요일         03  12:45:00   \n",
      "4244       해남      현산    전남       19            일요일         03  12:55:00   \n",
      "4245       밀양      단장    경남       19            일요일         03  13:00:00   \n",
      "\n",
      "     startyear  \n",
      "0         2018  \n",
      "1         2019  \n",
      "2         2019  \n",
      "3         2019  \n",
      "4         2019  \n",
      "...        ...  \n",
      "4241      2017  \n",
      "4242      2017  \n",
      "4243      2017  \n",
      "4244      2017  \n",
      "4245      2017  \n",
      "\n",
      "[4246 rows x 16 columns]\n"
     ]
    }
   ],
   "source": [
    "import pandas as pd\n",
    "from pandas import json_normalize\n",
    "\n",
    "\n",
    "df = json_normalize(jsonBody['response']['body']['items']['item'])\n",
    "print(df)"
   ]
  },
  {
   "cell_type": "code",
   "execution_count": 4,
   "metadata": {},
   "outputs": [],
   "source": [
    "pd.set_option('display.max_columns', 500)"
   ]
  },
  {
   "cell_type": "code",
   "execution_count": 5,
   "metadata": {},
   "outputs": [
    {
     "name": "stdout",
     "output_type": "stream",
     "text": [
      "     damagearea endday endmonth   endtime endyear firecause locbunji locdong  \\\n",
      "0          0.01     29       11  12:44:00    2018        기타      산34      대문   \n",
      "1          0.08     26       08  18:00:00    2019     입산자실화     산102      검산   \n",
      "2          0.01     26       08  16:50:00    2019        기타     산120      석정   \n",
      "3          0.02     19       09  16:20:00    2019     쓰레기소각      6-4      녹도   \n",
      "4          0.16     30       09  18:00:00    2019     입산자실화     산267      도평   \n",
      "...         ...    ...      ...       ...     ...       ...      ...     ...   \n",
      "4241        1.3     19       03  13:20:00    2017   농산폐기물소각      산70      항금   \n",
      "4242       0.03     19       03  13:30:00    2017  기타(직접입력)       산6      노래   \n",
      "4243        0.1     19       03  14:58:00    2017   농산폐기물소각      산82      오산   \n",
      "4244       0.03     19       03  14:25:00    2017   농산폐기물소각       산2      덕흥   \n",
      "4245        0.2     19       03  15:00:00    2017     쓰레기소각     산191      범도   \n",
      "\n",
      "     locgungu locmenu locsi startday startdayofweek startmonth starttime  \\\n",
      "0          진천      백곡    충북       29            목요일         11  12:14:00   \n",
      "1          홍천      서석    강원       26            월요일         08  12:10:00   \n",
      "2          평택      포승    경기       26            월요일         08  16:22:00   \n",
      "3          보령      오천    충남       19            목요일         09  10:38:00   \n",
      "4          포천      이동    경기       29            일요일         09  17:42:00   \n",
      "...       ...     ...   ...      ...            ...        ...       ...   \n",
      "4241       양평      강하    경기       19            일요일         03  11:29:00   \n",
      "4242       청송      안덕    경북       19            일요일         03  11:35:00   \n",
      "4243       안동      북후    경북       19            일요일         03  12:45:00   \n",
      "4244       해남      현산    전남       19            일요일         03  12:55:00   \n",
      "4245       밀양      단장    경남       19            일요일         03  13:00:00   \n",
      "\n",
      "     startyear  \n",
      "0         2018  \n",
      "1         2019  \n",
      "2         2019  \n",
      "3         2019  \n",
      "4         2019  \n",
      "...        ...  \n",
      "4241      2017  \n",
      "4242      2017  \n",
      "4243      2017  \n",
      "4244      2017  \n",
      "4245      2017  \n",
      "\n",
      "[4246 rows x 16 columns]\n"
     ]
    }
   ],
   "source": [
    "print(df)"
   ]
  },
  {
   "cell_type": "code",
   "execution_count": 6,
   "metadata": {},
   "outputs": [],
   "source": [
    "df.to_csv(\"exdata03\")"
   ]
  },
  {
   "cell_type": "code",
   "execution_count": null,
   "metadata": {},
   "outputs": [],
   "source": []
  }
 ],
 "metadata": {
  "kernelspec": {
   "display_name": "Python 3",
   "language": "python",
   "name": "python3"
  },
  "language_info": {
   "codemirror_mode": {
    "name": "ipython",
    "version": 3
   },
   "file_extension": ".py",
   "mimetype": "text/x-python",
   "name": "python",
   "nbconvert_exporter": "python",
   "pygments_lexer": "ipython3",
   "version": "3.8.5"
  }
 },
 "nbformat": 4,
 "nbformat_minor": 4
}
