{
 "cells": [
  {
   "cell_type": "code",
   "execution_count": null,
   "metadata": {},
   "outputs": [],
   "source": [
    "import pandas as pd\n",
    "\n",
    "all = pd.read_csv('./data/mapping.csv')\n",
    "bin = [0.01,0.04,0.15,50,100]\n",
    "bin_label = [1, 2, 3, 4, 5]\n",
    "all['label']=pd.cut(all['damagearea'], bin, right=False, labels=bin_label[:-1])\n",
    "all.to_csv(\"./data/label.csv\", index=None, encoding=\"cp949\")\n",
    "print(all)"
   ]
  }
 ],
 "metadata": {
  "kernelspec": {
   "display_name": "Python 3",
   "language": "python",
   "name": "python3"
  },
  "language_info": {
   "codemirror_mode": {
    "name": "ipython",
    "version": 3
   },
   "file_extension": ".py",
   "mimetype": "text/x-python",
   "name": "python",
   "nbconvert_exporter": "python",
   "pygments_lexer": "ipython3",
   "version": "3.8.5"
  }
 },
 "nbformat": 4,
 "nbformat_minor": 4
}
